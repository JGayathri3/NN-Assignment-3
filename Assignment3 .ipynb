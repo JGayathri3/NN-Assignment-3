{
 "cells": [
  {
   "cell_type": "code",
   "execution_count": 2,
   "id": "14ebb707-9089-4a49-96b9-a37bf383e745",
   "metadata": {},
   "outputs": [
    {
     "name": "stdout",
     "output_type": "stream",
     "text": [
      "full time employee Benefits.\n",
      "Average salary: 271000.0\n"
     ]
    }
   ],
   "source": [
    "#QUESTION 1\n",
    "#create a class employee\n",
    "class Employee:\n",
    "    #create a datamember to count the no.of employees\n",
    "    no_of_employees = 0\n",
    "\n",
    "    #create a constructor to initialize name,family,salary,department\n",
    "    def __init__(self, name, family_name, salary, department):\n",
    "        self.__name = name\n",
    "        self.__family_name = family_name\n",
    "        self.salary = salary\n",
    "        self.__department = department\n",
    "        Employee.no_of_employees += 1\n",
    "\n",
    "\n",
    "    #create a function to average salary\n",
    "    def average_salary(employees):\n",
    "        sum = 0\n",
    "        for employee in employees:\n",
    "            sum += employee.salary\n",
    "        return sum / Employee.no_of_employees\n",
    "    \n",
    "\n",
    "#create a fulltime emlpoyee class and it should inherit the properties of Employee class\n",
    "class FulltimeEmployee(Employee) :\n",
    "\n",
    "    def __init__(self, name, family_name, salary, department):\n",
    "        super().__init__(name, family_name, salary, department)\n",
    "\n",
    "    def full_time_benefits(self):\n",
    "        print(\"full time employee Benefits.\")\n",
    "    \n",
    "\n",
    "#create the instances of Fulltime Employee class and employee class and call their member functions\n",
    "def main():\n",
    "    employees = []\n",
    "    fte1 = FulltimeEmployee(\"Hemanth\", \"1\", 400000, \"CSE\")\n",
    "    fte1.full_time_benefits()\n",
    "    employees.append(fte1)\n",
    "    fte2 = FulltimeEmployee(\"Rushitha\", \"2\", 100000, \"CIS\")\n",
    "    employees.append(fte2)\n",
    "    emp1 = Employee(\"Pratysha\", \"3\", 280000, \"IT\")\n",
    "    employees.append(emp1)\n",
    "    emp2 = Employee(\"Lahari\", \"4\", 304000, \"BD\")\n",
    "    employees.append(emp2)\n",
    "    print(\"Average salary:\", FulltimeEmployee.average_salary(employees))\n",
    "\n",
    "\n",
    "if __name__ == \"__main__\":\n",
    "    main()"
   ]
  },
  {
   "cell_type": "code",
   "execution_count": 5,
   "id": "a367c081-b719-4465-8710-38fa32e7b73f",
   "metadata": {},
   "outputs": [
    {
     "name": "stdout",
     "output_type": "stream",
     "text": [
      "Original array:\n",
      "[ 9.78347585  5.74829699 18.23498875 17.3129872  15.08046046 14.77250664\n",
      "  9.15419175  3.96485954 16.59762124 17.74552834 16.4086825  14.61688349\n",
      " 16.62991304 15.28975513  7.04263708  4.86311433 11.18978889 10.02438468\n",
      " 14.14465394 11.51920783]\n",
      "Reshaped Array: \n",
      "[[ 9.78347585  5.74829699 18.23498875 17.3129872  15.08046046]\n",
      " [14.77250664  9.15419175  3.96485954 16.59762124 17.74552834]\n",
      " [16.4086825  14.61688349 16.62991304 15.28975513  7.04263708]\n",
      " [ 4.86311433 11.18978889 10.02438468 14.14465394 11.51920783]]\n",
      "Maximum value replaced by 0:\n",
      "[[ 9.78347585  5.74829699  0.         17.3129872  15.08046046]\n",
      " [14.77250664  9.15419175  3.96485954 16.59762124  0.        ]\n",
      " [16.4086825  14.61688349  0.         15.28975513  7.04263708]\n",
      " [ 4.86311433 11.18978889 10.02438468  0.         11.51920783]]\n"
     ]
    }
   ],
   "source": [
    "#QUESTION2 \n",
    "#create a randomm vector of size 20 having only float in the range 1-20\n",
    "import numpy as np\n",
    "x=np.random.uniform(1,20,20)\n",
    "print(\"Original array:\")\n",
    "print(x)\n",
    "#reshape the array to 4 by 5\n",
    "x1=x.reshape(4,5)\n",
    "print(\"Reshaped Array: \")\n",
    "print(x1)\n",
    "#replace the max in each row by 0\n",
    "x1[np.arange(len(x1)), x1.argmax(1)]=0\n",
    "print(\"Maximum value replaced by 0:\")\n",
    "print(x1)"
   ]
  },
  {
   "cell_type": "code",
   "execution_count": null,
   "id": "a5d6b0fe-2f61-463f-9e2e-ebcabed30525",
   "metadata": {},
   "outputs": [],
   "source": []
  }
 ],
 "metadata": {
  "kernelspec": {
   "display_name": "Python 3 (ipykernel)",
   "language": "python",
   "name": "python3"
  },
  "language_info": {
   "codemirror_mode": {
    "name": "ipython",
    "version": 3
   },
   "file_extension": ".py",
   "mimetype": "text/x-python",
   "name": "python",
   "nbconvert_exporter": "python",
   "pygments_lexer": "ipython3",
   "version": "3.12.1"
  }
 },
 "nbformat": 4,
 "nbformat_minor": 5
}
